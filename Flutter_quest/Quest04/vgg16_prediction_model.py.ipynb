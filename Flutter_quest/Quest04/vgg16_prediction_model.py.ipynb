{
 "cells": [
  {
   "cell_type": "code",
   "execution_count": 1,
   "id": "04662eda",
   "metadata": {},
   "outputs": [],
   "source": [
    "# vgg16_prediction_model.py\n",
    "\n",
    "# 예측에 필요한 라이브러리\n",
    "from tensorflow.keras.applications.vgg16 import preprocess_input\n",
    "import tensorflow as tf\n",
    "from PIL import Image\n",
    "import numpy as np\n",
    "import matplotlib.pyplot as plt\n",
    "from tensorflow.keras.preprocessing import image\n",
    "from tensorflow.keras.applications.imagenet_utils import decode_predictions\n",
    "\n",
    "async def prediction_model():\n",
    "    model = tf.keras.models.load_model('./vgg16.h5')\n",
    "    \n",
    "    img = Image.open('./sample_data/jellyfish.jpg')\n",
    "#     print(type(img))\n",
    "    # resize\n",
    "    target_size = 224\n",
    "    img = img.resize((target_size, target_size)) \n",
    "\n",
    "    #numpy array로 변경\n",
    "    np_img = image.img_to_array(img)\n",
    "\n",
    "    #4차원으로 변경 \n",
    "    img_batch = np.expand_dims(np_img, axis=0)\n",
    "    #feature normalization\n",
    "    pre_processed = preprocess_input(img_batch)\n",
    "    \n",
    "    # 예측\n",
    "    y_preds = model.predict(pre_processed)\n",
    "    np.set_printoptions(suppress=True, precision=5) #소수 5자리까지 \n",
    "    # 1위 예측 반환\n",
    "    result = decode_predictions(y_preds, top=1)\n",
    "    result = {\"predicted_label\" : str(result[0][0][1]), \"prediction_score\" :  str(result[0][0][2])}\n",
    "    return result"
   ]
  },
  {
   "cell_type": "code",
   "execution_count": null,
   "id": "309116f9",
   "metadata": {},
   "outputs": [],
   "source": []
  }
 ],
 "metadata": {
  "kernelspec": {
   "display_name": "Python 3 (ipykernel)",
   "language": "python",
   "name": "python3"
  },
  "language_info": {
   "codemirror_mode": {
    "name": "ipython",
    "version": 3
   },
   "file_extension": ".py",
   "mimetype": "text/x-python",
   "name": "python",
   "nbconvert_exporter": "python",
   "pygments_lexer": "ipython3",
   "version": "3.9.7"
  }
 },
 "nbformat": 4,
 "nbformat_minor": 5
}
